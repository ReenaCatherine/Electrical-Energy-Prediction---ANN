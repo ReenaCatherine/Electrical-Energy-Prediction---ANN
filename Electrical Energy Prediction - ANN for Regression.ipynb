{
  "nbformat": 4,
  "nbformat_minor": 0,
  "metadata": {
    "colab": {
      "provenance": []
    },
    "kernelspec": {
      "name": "python3",
      "display_name": "Python 3"
    }
  },
  "cells": [
    {
      "cell_type": "markdown",
      "metadata": {
        "id": "3cbb7fRy-eyr"
      },
      "source": [
        "# Artificial Neural Network"
      ]
    },
    {
      "cell_type": "markdown",
      "metadata": {
        "id": "8sNDnxE2-pwE"
      },
      "source": [
        "### Importing the libraries"
      ]
    },
    {
      "cell_type": "code",
      "metadata": {
        "id": "lxChR1Rk-umf"
      },
      "source": [
        "import numpy as np\n",
        "import pandas as pd\n",
        "import tensorflow as tf"
      ],
      "execution_count": null,
      "outputs": []
    },
    {
      "cell_type": "code",
      "metadata": {
        "id": "uBTqR3nacj0e",
        "colab": {
          "base_uri": "https://localhost:8080/",
          "height": 36
        },
        "outputId": "d7529dbd-3f38-4325-ba6d-ed72004f23dd"
      },
      "source": [
        "tf.__version__"
      ],
      "execution_count": null,
      "outputs": [
        {
          "output_type": "execute_result",
          "data": {
            "text/plain": [
              "'2.15.0'"
            ],
            "application/vnd.google.colaboratory.intrinsic+json": {
              "type": "string"
            }
          },
          "metadata": {},
          "execution_count": 2
        }
      ]
    },
    {
      "cell_type": "markdown",
      "metadata": {
        "id": "AG3FQEch-yuA"
      },
      "source": [
        "## Part 1 - Data Preprocessing"
      ]
    },
    {
      "cell_type": "markdown",
      "metadata": {
        "id": "-4zq8Mza_D9O"
      },
      "source": [
        "### Importing the dataset"
      ]
    },
    {
      "cell_type": "code",
      "metadata": {
        "id": "B9CV13Co_HHM"
      },
      "source": [
        "dataset = pd.read_excel('Folds5x2_pp.xlsx')\n",
        "X = dataset.iloc[:, :-1].values\n",
        "y = dataset.iloc[:, -1].values"
      ],
      "execution_count": null,
      "outputs": []
    },
    {
      "cell_type": "markdown",
      "metadata": {
        "id": "VC6omXel_Up0"
      },
      "source": [
        "### Splitting the dataset into the Training set and Test set"
      ]
    },
    {
      "cell_type": "code",
      "metadata": {
        "id": "L5edeb2r_agx"
      },
      "source": [
        "from sklearn.model_selection import train_test_split\n",
        "X_train, X_test, y_train, y_test = train_test_split(X, y, test_size = 0.2, random_state = 0)"
      ],
      "execution_count": null,
      "outputs": []
    },
    {
      "cell_type": "markdown",
      "metadata": {
        "id": "_mSLlAT9_eyI"
      },
      "source": [
        "## Part 2 - Building the ANN"
      ]
    },
    {
      "cell_type": "markdown",
      "metadata": {
        "id": "CsBULd_f_wLY"
      },
      "source": [
        "### Initializing the ANN"
      ]
    },
    {
      "cell_type": "code",
      "metadata": {
        "id": "J6Hd97Ls__Nz"
      },
      "source": [
        "ann = tf.keras.models.Sequential()"
      ],
      "execution_count": null,
      "outputs": []
    },
    {
      "cell_type": "markdown",
      "metadata": {
        "id": "iitAFJS_ABUn"
      },
      "source": [
        "### Adding the input layer and the first hidden layer"
      ]
    },
    {
      "cell_type": "code",
      "metadata": {
        "id": "ksO_Vv40AHix"
      },
      "source": [
        "ann.add(tf.keras.layers.Dense(units=6, activation='relu'))"
      ],
      "execution_count": null,
      "outputs": []
    },
    {
      "cell_type": "markdown",
      "metadata": {
        "id": "-lb4kK_wAKbs"
      },
      "source": [
        "### Adding the second hidden layer"
      ]
    },
    {
      "cell_type": "code",
      "metadata": {
        "id": "c2357OqEAQOQ"
      },
      "source": [
        "ann.add(tf.keras.layers.Dense(units=6, activation='relu'))"
      ],
      "execution_count": null,
      "outputs": []
    },
    {
      "cell_type": "markdown",
      "metadata": {
        "id": "jwMOmKb3AdBY"
      },
      "source": [
        "### Adding the output layer"
      ]
    },
    {
      "cell_type": "code",
      "metadata": {
        "id": "YFATpzsUAkLL"
      },
      "source": [
        "ann.add(tf.keras.layers.Dense(units=1))"
      ],
      "execution_count": null,
      "outputs": []
    },
    {
      "cell_type": "markdown",
      "metadata": {
        "id": "fq7e4fF6A1yy"
      },
      "source": [
        "## Part 3 - Training the ANN"
      ]
    },
    {
      "cell_type": "markdown",
      "metadata": {
        "id": "qDeylAs2An25"
      },
      "source": [
        "### Compiling the ANN"
      ]
    },
    {
      "cell_type": "code",
      "metadata": {
        "id": "pesgbWlCAtB4"
      },
      "source": [
        "ann.compile(optimizer = 'adam', loss = 'mean_squared_error')"
      ],
      "execution_count": null,
      "outputs": []
    },
    {
      "cell_type": "markdown",
      "metadata": {
        "id": "YjVuiybYOo7r"
      },
      "source": [
        "### Training the ANN model on the Training set"
      ]
    },
    {
      "cell_type": "code",
      "metadata": {
        "id": "c_vV-tiiA5zn",
        "colab": {
          "base_uri": "https://localhost:8080/"
        },
        "outputId": "3a1b53bb-ae23-4ff0-d4a9-89dd37be7392"
      },
      "source": [
        "ann.fit(X_train, y_train, batch_size = 32, epochs = 100)"
      ],
      "execution_count": null,
      "outputs": [
        {
          "output_type": "stream",
          "name": "stdout",
          "text": [
            "Epoch 1/100\n",
            "240/240 [==============================] - 1s 2ms/step - loss: 6851.5215\n",
            "Epoch 2/100\n",
            "240/240 [==============================] - 0s 2ms/step - loss: 160.8020\n",
            "Epoch 3/100\n",
            "240/240 [==============================] - 0s 2ms/step - loss: 143.8362\n",
            "Epoch 4/100\n",
            "240/240 [==============================] - 0s 2ms/step - loss: 134.3337\n",
            "Epoch 5/100\n",
            "240/240 [==============================] - 0s 2ms/step - loss: 125.0934\n",
            "Epoch 6/100\n",
            "240/240 [==============================] - 0s 2ms/step - loss: 115.8102\n",
            "Epoch 7/100\n",
            "240/240 [==============================] - 0s 2ms/step - loss: 106.4678\n",
            "Epoch 8/100\n",
            "240/240 [==============================] - 0s 2ms/step - loss: 97.4823\n",
            "Epoch 9/100\n",
            "240/240 [==============================] - 0s 2ms/step - loss: 88.5095\n",
            "Epoch 10/100\n",
            "240/240 [==============================] - 0s 2ms/step - loss: 80.8059\n",
            "Epoch 11/100\n",
            "240/240 [==============================] - 1s 3ms/step - loss: 72.9866\n",
            "Epoch 12/100\n",
            "240/240 [==============================] - 1s 3ms/step - loss: 66.4751\n",
            "Epoch 13/100\n",
            "240/240 [==============================] - 1s 3ms/step - loss: 60.5237\n",
            "Epoch 14/100\n",
            "240/240 [==============================] - 1s 3ms/step - loss: 55.1240\n",
            "Epoch 15/100\n",
            "240/240 [==============================] - 1s 3ms/step - loss: 50.4154\n",
            "Epoch 16/100\n",
            "240/240 [==============================] - 1s 3ms/step - loss: 45.9962\n",
            "Epoch 17/100\n",
            "240/240 [==============================] - 0s 2ms/step - loss: 42.5526\n",
            "Epoch 18/100\n",
            "240/240 [==============================] - 0s 2ms/step - loss: 39.3574\n",
            "Epoch 19/100\n",
            "240/240 [==============================] - 0s 2ms/step - loss: 36.9502\n",
            "Epoch 20/100\n",
            "240/240 [==============================] - 0s 2ms/step - loss: 34.9789\n",
            "Epoch 21/100\n",
            "240/240 [==============================] - 0s 2ms/step - loss: 33.1077\n",
            "Epoch 22/100\n",
            "240/240 [==============================] - 0s 2ms/step - loss: 32.0007\n",
            "Epoch 23/100\n",
            "240/240 [==============================] - 0s 2ms/step - loss: 31.4279\n",
            "Epoch 24/100\n",
            "240/240 [==============================] - 0s 2ms/step - loss: 30.6276\n",
            "Epoch 25/100\n",
            "240/240 [==============================] - 0s 2ms/step - loss: 30.5486\n",
            "Epoch 26/100\n",
            "240/240 [==============================] - 0s 2ms/step - loss: 29.4952\n",
            "Epoch 27/100\n",
            "240/240 [==============================] - 0s 2ms/step - loss: 29.3927\n",
            "Epoch 28/100\n",
            "240/240 [==============================] - 0s 2ms/step - loss: 28.5895\n",
            "Epoch 29/100\n",
            "240/240 [==============================] - 0s 2ms/step - loss: 28.8334\n",
            "Epoch 30/100\n",
            "240/240 [==============================] - 0s 2ms/step - loss: 28.2659\n",
            "Epoch 31/100\n",
            "240/240 [==============================] - 0s 2ms/step - loss: 28.8946\n",
            "Epoch 32/100\n",
            "240/240 [==============================] - 0s 2ms/step - loss: 28.1797\n",
            "Epoch 33/100\n",
            "240/240 [==============================] - 0s 2ms/step - loss: 27.9956\n",
            "Epoch 34/100\n",
            "240/240 [==============================] - 0s 2ms/step - loss: 27.3271\n",
            "Epoch 35/100\n",
            "240/240 [==============================] - 0s 2ms/step - loss: 27.6057\n",
            "Epoch 36/100\n",
            "240/240 [==============================] - 0s 2ms/step - loss: 27.0346\n",
            "Epoch 37/100\n",
            "240/240 [==============================] - 0s 2ms/step - loss: 27.9296\n",
            "Epoch 38/100\n",
            "240/240 [==============================] - 0s 2ms/step - loss: 27.5814\n",
            "Epoch 39/100\n",
            "240/240 [==============================] - 1s 2ms/step - loss: 27.4448\n",
            "Epoch 40/100\n",
            "240/240 [==============================] - 1s 3ms/step - loss: 27.0821\n",
            "Epoch 41/100\n",
            "240/240 [==============================] - 1s 3ms/step - loss: 26.7417\n",
            "Epoch 42/100\n",
            "240/240 [==============================] - 1s 3ms/step - loss: 27.6038\n",
            "Epoch 43/100\n",
            "240/240 [==============================] - 1s 3ms/step - loss: 27.0544\n",
            "Epoch 44/100\n",
            "240/240 [==============================] - 1s 2ms/step - loss: 27.5281\n",
            "Epoch 45/100\n",
            "240/240 [==============================] - 0s 2ms/step - loss: 26.5054\n",
            "Epoch 46/100\n",
            "240/240 [==============================] - 0s 2ms/step - loss: 26.9611\n",
            "Epoch 47/100\n",
            "240/240 [==============================] - 0s 2ms/step - loss: 27.0277\n",
            "Epoch 48/100\n",
            "240/240 [==============================] - 0s 2ms/step - loss: 27.1290\n",
            "Epoch 49/100\n",
            "240/240 [==============================] - 0s 2ms/step - loss: 26.6058\n",
            "Epoch 50/100\n",
            "240/240 [==============================] - 0s 2ms/step - loss: 27.6544\n",
            "Epoch 51/100\n",
            "240/240 [==============================] - 0s 2ms/step - loss: 27.3746\n",
            "Epoch 52/100\n",
            "240/240 [==============================] - 0s 2ms/step - loss: 27.5266\n",
            "Epoch 53/100\n",
            "240/240 [==============================] - 0s 2ms/step - loss: 27.4184\n",
            "Epoch 54/100\n",
            "240/240 [==============================] - 0s 2ms/step - loss: 26.6264\n",
            "Epoch 55/100\n",
            "240/240 [==============================] - 0s 2ms/step - loss: 27.2269\n",
            "Epoch 56/100\n",
            "240/240 [==============================] - 0s 2ms/step - loss: 26.6497\n",
            "Epoch 57/100\n",
            "240/240 [==============================] - 0s 2ms/step - loss: 27.1025\n",
            "Epoch 58/100\n",
            "240/240 [==============================] - 0s 2ms/step - loss: 27.1948\n",
            "Epoch 59/100\n",
            "240/240 [==============================] - 0s 2ms/step - loss: 26.7800\n",
            "Epoch 60/100\n",
            "240/240 [==============================] - 0s 2ms/step - loss: 27.0030\n",
            "Epoch 61/100\n",
            "240/240 [==============================] - 0s 2ms/step - loss: 27.3074\n",
            "Epoch 62/100\n",
            "240/240 [==============================] - 0s 2ms/step - loss: 26.7628\n",
            "Epoch 63/100\n",
            "240/240 [==============================] - 0s 2ms/step - loss: 26.8622\n",
            "Epoch 64/100\n",
            "240/240 [==============================] - 0s 2ms/step - loss: 26.2436\n",
            "Epoch 65/100\n",
            "240/240 [==============================] - 0s 2ms/step - loss: 27.3955\n",
            "Epoch 66/100\n",
            "240/240 [==============================] - 0s 2ms/step - loss: 28.0003\n",
            "Epoch 67/100\n",
            "240/240 [==============================] - 1s 3ms/step - loss: 27.1911\n",
            "Epoch 68/100\n",
            "240/240 [==============================] - 1s 3ms/step - loss: 26.7926\n",
            "Epoch 69/100\n",
            "240/240 [==============================] - 1s 3ms/step - loss: 26.9584\n",
            "Epoch 70/100\n",
            "240/240 [==============================] - 1s 3ms/step - loss: 26.8304\n",
            "Epoch 71/100\n",
            "240/240 [==============================] - 1s 3ms/step - loss: 27.8380\n",
            "Epoch 72/100\n",
            "240/240 [==============================] - 0s 2ms/step - loss: 26.6082\n",
            "Epoch 73/100\n",
            "240/240 [==============================] - 0s 2ms/step - loss: 26.6955\n",
            "Epoch 74/100\n",
            "240/240 [==============================] - 0s 2ms/step - loss: 26.2964\n",
            "Epoch 75/100\n",
            "240/240 [==============================] - 0s 2ms/step - loss: 26.6348\n",
            "Epoch 76/100\n",
            "240/240 [==============================] - 0s 2ms/step - loss: 26.5713\n",
            "Epoch 77/100\n",
            "240/240 [==============================] - 0s 2ms/step - loss: 26.5137\n",
            "Epoch 78/100\n",
            "240/240 [==============================] - 0s 2ms/step - loss: 27.1992\n",
            "Epoch 79/100\n",
            "240/240 [==============================] - 0s 2ms/step - loss: 27.3002\n",
            "Epoch 80/100\n",
            "240/240 [==============================] - 0s 2ms/step - loss: 27.2296\n",
            "Epoch 81/100\n",
            "240/240 [==============================] - 0s 2ms/step - loss: 26.7930\n",
            "Epoch 82/100\n",
            "240/240 [==============================] - 0s 2ms/step - loss: 26.8086\n",
            "Epoch 83/100\n",
            "240/240 [==============================] - 0s 2ms/step - loss: 26.6932\n",
            "Epoch 84/100\n",
            "240/240 [==============================] - 0s 2ms/step - loss: 27.3811\n",
            "Epoch 85/100\n",
            "240/240 [==============================] - 1s 2ms/step - loss: 26.6275\n",
            "Epoch 86/100\n",
            "240/240 [==============================] - 1s 3ms/step - loss: 26.9093\n",
            "Epoch 87/100\n",
            "240/240 [==============================] - 1s 3ms/step - loss: 27.1378\n",
            "Epoch 88/100\n",
            "240/240 [==============================] - 1s 3ms/step - loss: 26.5149\n",
            "Epoch 89/100\n",
            "240/240 [==============================] - 1s 3ms/step - loss: 26.7747\n",
            "Epoch 90/100\n",
            "240/240 [==============================] - 1s 3ms/step - loss: 26.7214\n",
            "Epoch 91/100\n",
            "240/240 [==============================] - 1s 3ms/step - loss: 26.7628\n",
            "Epoch 92/100\n",
            "240/240 [==============================] - 1s 3ms/step - loss: 26.4301\n",
            "Epoch 93/100\n",
            "240/240 [==============================] - 1s 3ms/step - loss: 27.2951\n",
            "Epoch 94/100\n",
            "240/240 [==============================] - 1s 3ms/step - loss: 26.7430\n",
            "Epoch 95/100\n",
            "240/240 [==============================] - 1s 3ms/step - loss: 26.6812\n",
            "Epoch 96/100\n",
            "240/240 [==============================] - 1s 3ms/step - loss: 27.1804\n",
            "Epoch 97/100\n",
            "240/240 [==============================] - 0s 2ms/step - loss: 26.4736\n",
            "Epoch 98/100\n",
            "240/240 [==============================] - 0s 2ms/step - loss: 26.4810\n",
            "Epoch 99/100\n",
            "240/240 [==============================] - 0s 2ms/step - loss: 27.0941\n",
            "Epoch 100/100\n",
            "240/240 [==============================] - 0s 2ms/step - loss: 26.6919\n"
          ]
        },
        {
          "output_type": "execute_result",
          "data": {
            "text/plain": [
              "<keras.src.callbacks.History at 0x7e23240651b0>"
            ]
          },
          "metadata": {},
          "execution_count": 10
        }
      ]
    },
    {
      "cell_type": "markdown",
      "metadata": {
        "id": "0H0zKKNEBLD5"
      },
      "source": [
        "### Predicting the results of the Test set"
      ]
    },
    {
      "cell_type": "code",
      "metadata": {
        "id": "IA0yApEmBG1X",
        "colab": {
          "base_uri": "https://localhost:8080/"
        },
        "outputId": "81539e8f-e1bd-48c8-a292-ffed28806232"
      },
      "source": [
        "y_pred = ann.predict(X_test)\n",
        "np.set_printoptions(precision=2)\n",
        "print(np.concatenate((y_pred.reshape(len(y_pred),1), y_test.reshape(len(y_test),1)),1))"
      ],
      "execution_count": null,
      "outputs": [
        {
          "output_type": "stream",
          "name": "stdout",
          "text": [
            "60/60 [==============================] - 0s 1ms/step\n",
            "[[431.49 431.23]\n",
            " [462.53 460.01]\n",
            " [466.02 461.14]\n",
            " ...\n",
            " [473.26 473.26]\n",
            " [440.03 438.  ]\n",
            " [459.24 463.28]]\n"
          ]
        }
      ]
    }
  ]
}